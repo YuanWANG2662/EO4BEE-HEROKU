{
 "cells": [
  {
   "cell_type": "code",
   "execution_count": 1,
   "metadata": {},
   "outputs": [],
   "source": [
    "# !pip install geemap"
   ]
  },
  {
   "cell_type": "markdown",
   "metadata": {},
   "source": [
    "# EO4BEE\n",
    "\n",
    "**This webapp provide a tool to visualize various earth observation data to support the decision-making process of beekeeping in Europe**\n",
    "\n",
    "1. Select the earth observation variable that you're interested in.\n",
    "2. Drag the time slider to visualize the image at a specific time which you want to inspect. \n",
    "3. Click on the tool icon and then the plot icon to plot the change of the chosen variable over time at a specific location.\n",
    "4. If you want to visualize the change smoothly as a gif, use the create timelapse tool to create and download customized timelapse gif."
   ]
  },
  {
   "cell_type": "code",
   "execution_count": 2,
   "metadata": {},
   "outputs": [],
   "source": [
    "import os\n",
    "import ee\n",
    "import geemap\n",
    "import ipywidgets as widgets"
   ]
  },
  {
   "cell_type": "code",
   "execution_count": 3,
   "metadata": {},
   "outputs": [
    {
     "data": {
      "application/vnd.jupyter.widget-view+json": {
       "model_id": "b078e638517443348db17f0811d61e02",
       "version_major": 2,
       "version_minor": 0
      },
      "text/plain": [
       "HBox(children=(Dropdown(description='Select Layer:', options=('Annual Average Temperature', 'Monthly Average T…"
      ]
     },
     "metadata": {},
     "output_type": "display_data"
    }
   ],
   "source": [
    "style = {'description_width': 'initial'}\n",
    "layer = widgets.Dropdown(\n",
    "    description='Select Layer:',\n",
    "    options=['Annual Average Temperature','Monthly Average Temperature','Annual Total Precipitation','Monthly Total Precipitation','NDVI','Landcover','Soil Moisture', \n",
    "             'PM2.5','Sulphur Dioxide'],\n",
    "#     options=['Annual Average Temperature','Monthly Average Temperature'],\n",
    "    value='Annual Average Temperature',\n",
    "    style=style\n",
    ")\n",
    "show_layer = widgets.Button(\n",
    "    description='Visualize',\n",
    "    button_style='primary',\n",
    "    tooltip='Click the add the selected layer to the map',\n",
    "    style=style\n",
    ")\n",
    "hbox = widgets.HBox([layer, show_layer])\n",
    "hbox"
   ]
  },
  {
   "cell_type": "code",
   "execution_count": 4,
   "metadata": {},
   "outputs": [],
   "source": [
    "# Map.remove_control(Map.slider_ctrl)\n",
    "# Map.add_control(Map.slider_ctrl)\n",
    "# Map.slider_ctrl.widget.children[4].click()"
   ]
  },
  {
   "cell_type": "code",
   "execution_count": 5,
   "metadata": {},
   "outputs": [
    {
     "data": {
      "application/vnd.jupyter.widget-view+json": {
       "model_id": "3753b7f6b94c436aa5e5a5cb54c5c18b",
       "version_major": 2,
       "version_minor": 0
      },
      "text/plain": [
       "Map(center=[52, 14], controls=(WidgetControl(options=['position', 'transparent_bg'], widget=HBox(children=(Tog…"
      ]
     },
     "metadata": {},
     "output_type": "display_data"
    }
   ],
   "source": [
    "Map = geemap.Map()\n",
    "Map.set_center(14, 52, 4)\n",
    "Map"
   ]
  },
  {
   "cell_type": "code",
   "execution_count": 6,
   "metadata": {},
   "outputs": [],
   "source": [
    "def toCelsius(image):\n",
    "    celsius = image.subtract(273.15) \n",
    "    return celsius"
   ]
  },
  {
   "cell_type": "code",
   "execution_count": 7,
   "metadata": {},
   "outputs": [],
   "source": [
    "def showLayer():\n",
    "    if layer.value == 'Annual Average Temperature':\n",
    "        era5_complete = ee.ImageCollection(\"ECMWF/ERA5/MONTHLY\").select('mean_2m_air_temperature')\n",
    "        distinctYear = ee.ImageCollection(\"ECMWF/ERA5/MONTHLY\").select('mean_2m_air_temperature').distinct('year')\n",
    "        filter = ee.Filter.equals(leftField='year', rightField= 'year')\n",
    "        join = ee.Join.saveAll('sameYear')\n",
    "        joinCol = ee.ImageCollection(\n",
    "          join.apply(distinctYear, era5_complete, filter)\n",
    "        )\n",
    "\n",
    "        def func_lgr(img):\n",
    "          yearCol = ee.ImageCollection.fromImages(img.get('sameYear'))\n",
    "          return yearCol.mean().set('Year', img.get('year'))\n",
    "\n",
    "        annualMeanCol = joinCol.map(func_lgr)\n",
    "        annualMeanCol_celsius = annualMeanCol.map(toCelsius)\n",
    "        image = annualMeanCol_celsius.toBands()\n",
    "        vis_params = {\n",
    "            'min': -23.15,\n",
    "            'max': 46.85,\n",
    "            'palette': [\n",
    "                \"#000080\",\"#0000D9\",\"#4000FF\",\"#8000FF\",\"#0080FF\",\"#00FFFF\",\n",
    "                \"#00FF80\",\"#80FF00\",\"#DAFF00\",\"#FFFF00\",\"#FFF500\",\"#FFDA00\",\n",
    "                \"#FFB000\",\"#FFA400\",\"#FF4F00\",\"#FF2500\",\"#FF0A00\",\"#FF00FF\",\n",
    "            ]\n",
    "        }\n",
    "    #     Map.addLayer(image, {}, \"Time series\", False)\n",
    "        Map.add_time_slider(image, vis_params, '','Time series of annual average air temperature(℃) at 2m', time_interval=1)\n",
    "    \n",
    "    if layer.value == 'Monthly Average Temperature':\n",
    "        collection = ee.ImageCollection('ECMWF/ERA5/MONTHLY').select('mean_2m_air_temperature')\n",
    "        vis_params = {\n",
    "            'min': -23.15,\n",
    "            'max': 46.85,\n",
    "            'palette': [\n",
    "                \"#000080\",\"#0000D9\",\"#4000FF\",\"#8000FF\",\"#0080FF\",\"#00FFFF\",\n",
    "                \"#00FF80\",\"#80FF00\",\"#DAFF00\",\"#FFFF00\",\"#FFF500\",\"#FFDA00\",\n",
    "                \"#FFB000\",\"#FFA400\",\"#FF4F00\",\"#FF2500\",\"#FF0A00\",\"#FF00FF\",\n",
    "            ]\n",
    "        }\n",
    "        era5_celsius = collection.map(toCelsius)\n",
    "        image = era5_celsius.toBands()\n",
    "        Map.add_time_slider(image, vis_params, '','Time series of monthly average air temperature(℃) at 2m', time_interval=1)\n",
    "    \n",
    "    if layer.value == 'Annual Total Precipitation':\n",
    "        era5_complete = ee.ImageCollection(\"ECMWF/ERA5/MONTHLY\").select('total_precipitation')\n",
    "        distinctYear = ee.ImageCollection(\"ECMWF/ERA5/MONTHLY\").select('total_precipitation').distinct('year')\n",
    "        filter = ee.Filter.equals(leftField='year', rightField= 'year')\n",
    "        join = ee.Join.saveAll('sameYear')\n",
    "        joinCol = ee.ImageCollection(\n",
    "          join.apply(distinctYear, era5_complete, filter)\n",
    "        )\n",
    "\n",
    "        def func_lgr(img):\n",
    "          yearCol = ee.ImageCollection.fromImages(img.get('sameYear'))\n",
    "          return yearCol.sum().set('Year', img.get('year'))\n",
    "\n",
    "        annualSumCol = joinCol.map(func_lgr)\n",
    "        image = annualSumCol.toBands()\n",
    "        vis_params = {\n",
    "              'min': 0,\n",
    "              'max': 4.8,\n",
    "              'palette': ['#f7fcf0','#e0f3db','#ccebc5','#a8ddb5','#7bccc4','#4eb3d3','#2b8cbe','#0868ac','#084081']\n",
    "            }\n",
    "    #     Map.addLayer(image, {}, \"Time series\", False)\n",
    "        Map.add_time_slider(image, vis_params, '','Time series of annual average air temperature(℃) at 2m', time_interval=1)\n",
    "    \n",
    "    if layer.value == 'Monthly Total Precipitation':\n",
    "        collection  = ee.ImageCollection('ECMWF/ERA5/MONTHLY').select('total_precipitation')\n",
    "        vis_params = {\n",
    "              'min': 0,\n",
    "              'max': 0.4,\n",
    "              'palette': ['#f7fcf0','#e0f3db','#ccebc5','#a8ddb5','#7bccc4','#4eb3d3','#2b8cbe','#0868ac','#084081']\n",
    "            }\n",
    "        image = collection.toBands()\n",
    "        Map.add_time_slider(image, vis_params, '','Time series of monthly total precipitation(m)', time_interval=1)"
   ]
  },
  {
   "cell_type": "code",
   "execution_count": 8,
   "metadata": {},
   "outputs": [],
   "source": [
    "def getLayerName(layer_now):\n",
    "    if layer_now == 'Monthly Average Temperature':\n",
    "        return 'Time series of monthly average air temperature(℃) at 2m'\n",
    "    elif layer_now == \"Annual Average Temperature\":\n",
    "        return 'Time series of annual average air temperature(℃) at 2m'\n",
    "    else:\n",
    "        return layer_now\n",
    "\n",
    "def add_clicked(b):\n",
    "#     remove current layers and slider control\n",
    "    if hasattr(Map,'slider_ctrl'):\n",
    "        Map.slider_ctrl.widget.children[4].click()\n",
    "    showLayer()\n",
    "    \n",
    "show_layer.on_click(add_clicked)"
   ]
  },
  {
   "cell_type": "code",
   "execution_count": null,
   "metadata": {},
   "outputs": [],
   "source": []
  }
 ],
 "metadata": {
  "hide_input": false,
  "kernelspec": {
   "display_name": "Python 3 (ipykernel)",
   "language": "python",
   "name": "python3"
  },
  "language_info": {
   "codemirror_mode": {
    "name": "ipython",
    "version": 3
   },
   "file_extension": ".py",
   "mimetype": "text/x-python",
   "name": "python",
   "nbconvert_exporter": "python",
   "pygments_lexer": "ipython3",
   "version": "3.8.12"
  },
  "toc": {
   "base_numbering": 1,
   "nav_menu": {},
   "number_sections": true,
   "sideBar": true,
   "skip_h1_title": true,
   "title_cell": "Table of Contents",
   "title_sidebar": "Table of Contents",
   "toc_cell": false,
   "toc_position": {},
   "toc_section_display": true,
   "toc_window_display": true
  },
  "varInspector": {
   "cols": {
    "lenName": 16,
    "lenType": 16,
    "lenVar": 40
   },
   "kernels_config": {
    "python": {
     "delete_cmd_postfix": "",
     "delete_cmd_prefix": "del ",
     "library": "var_list.py",
     "varRefreshCmd": "print(var_dic_list())"
    },
    "r": {
     "delete_cmd_postfix": ") ",
     "delete_cmd_prefix": "rm(",
     "library": "var_list.r",
     "varRefreshCmd": "cat(var_dic_list()) "
    }
   },
   "types_to_exclude": [
    "module",
    "function",
    "builtin_function_or_method",
    "instance",
    "_Feature"
   ],
   "window_display": false
  }
 },
 "nbformat": 4,
 "nbformat_minor": 4
}
