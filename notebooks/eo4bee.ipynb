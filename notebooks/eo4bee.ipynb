{
 "cells": [
  {
   "cell_type": "code",
   "execution_count": 1,
   "metadata": {},
   "outputs": [],
   "source": [
    "# !pip install geemap"
   ]
  },
  {
   "cell_type": "markdown",
   "metadata": {},
   "source": [
    "# EO4BEE\n",
    "\n",
    "**This webapp provide a tool to visualize various earth observation data to support the decision-making process of beekeeping in Europe**\n",
    "\n",
    "1. Select the earth observation variable that you're interested in.\n",
    "2. Drag the time slider to visualize the image at a specific time which you want to inspect. \n",
    "3. Click on the tool icon and then the plot icon to plot the change of the chosen variable over time at a specific location.\n",
    "4. If you want to visualize the change smoothly as a gif, use the create timelapse tool to create and download customized timelapse gif."
   ]
  },
  {
   "cell_type": "code",
   "execution_count": 2,
   "metadata": {},
   "outputs": [],
   "source": [
    "import os\n",
    "import ee\n",
    "import geemap\n",
    "import ipywidgets as widgets"
   ]
  },
  {
   "cell_type": "code",
   "execution_count": 3,
   "metadata": {},
   "outputs": [
    {
     "data": {
      "application/vnd.jupyter.widget-view+json": {
       "model_id": "f35963c6421b4624a85d63c8e0431aed",
       "version_major": 2,
       "version_minor": 0
      },
      "text/plain": [
       "HBox(children=(Dropdown(description='Select Layer:', options=('Annual Average Temperature', 'Monthly Average T…"
      ]
     },
     "metadata": {},
     "output_type": "display_data"
    }
   ],
   "source": [
    "style = {'description_width': 'initial'}\n",
    "layer = widgets.Dropdown(\n",
    "    description='Select Layer:',\n",
    "    options=['Annual Average Temperature','Monthly Average Temperature','Annual Total Precipitation','Monthly Total Precipitation','NDVI','Landcover','Soil Moisture', \n",
    "             'PM2.5','Sulphur Dioxide'],\n",
    "#     options=['Annual Average Temperature','Monthly Average Temperature'],\n",
    "    value='Annual Average Temperature',\n",
    "    style=style\n",
    ")\n",
    "show_layer = widgets.Button(\n",
    "    description='Visualize',\n",
    "    button_style='primary',\n",
    "    tooltip='Click the add the selected layer to the map',\n",
    "    style=style\n",
    ")\n",
    "hbox = widgets.HBox([layer, show_layer])\n",
    "hbox"
   ]
  },
  {
   "cell_type": "code",
   "execution_count": 4,
   "metadata": {},
   "outputs": [],
   "source": [
    "# Map.remove_control(Map.slider_ctrl)\n",
    "# Map.add_control(Map.slider_ctrl)\n",
    "# Map.slider_ctrl.widget.children[4].click()"
   ]
  },
  {
   "cell_type": "code",
   "execution_count": 5,
   "metadata": {},
   "outputs": [
    {
     "data": {
      "application/vnd.jupyter.widget-view+json": {
       "model_id": "0af0a1f3c2094b719030bb2f54b236fa",
       "version_major": 2,
       "version_minor": 0
      },
      "text/plain": [
       "Map(center=[52, 14], controls=(WidgetControl(options=['position', 'transparent_bg'], widget=HBox(children=(Tog…"
      ]
     },
     "metadata": {},
     "output_type": "display_data"
    }
   ],
   "source": [
    "Map = geemap.Map()\n",
    "Map.set_center(14, 52, 4)\n",
    "Map"
   ]
  },
  {
   "cell_type": "code",
   "execution_count": 6,
   "metadata": {},
   "outputs": [],
   "source": [
    "def toCelsius(image):\n",
    "    celsius = image.subtract(273.15) \n",
    "    return celsius"
   ]
  },
  {
   "cell_type": "code",
   "execution_count": 7,
   "metadata": {},
   "outputs": [],
   "source": [
    "def showLayer():\n",
    "    if layer.value == 'Annual Average Temperature':\n",
    "        era5_complete = ee.ImageCollection(\"ECMWF/ERA5/MONTHLY\").select('mean_2m_air_temperature')\n",
    "        distinctYear = ee.ImageCollection(\"ECMWF/ERA5/MONTHLY\").select('mean_2m_air_temperature').distinct('year')\n",
    "        filter = ee.Filter.equals(leftField='year', rightField= 'year')\n",
    "        join = ee.Join.saveAll('sameYear')\n",
    "        joinCol = ee.ImageCollection(\n",
    "          join.apply(distinctYear, era5_complete, filter)\n",
    "        )\n",
    "\n",
    "        def func_lgr(img):\n",
    "          yearCol = ee.ImageCollection.fromImages(img.get('sameYear'))\n",
    "          return yearCol.mean().set('Year', img.get('year'))\n",
    "\n",
    "        annualMeanCol = joinCol.map(func_lgr)\n",
    "        annualMeanCol_celsius = annualMeanCol.map(toCelsius)\n",
    "        image = annualMeanCol_celsius.toBands()\n",
    "        vis_params = {\n",
    "            'min': -23.15,\n",
    "            'max': 46.85,\n",
    "            'opacity': 0.7,\n",
    "            'palette': [\n",
    "                \"#000080\",\"#0000D9\",\"#4000FF\",\"#8000FF\",\"#0080FF\",\"#00FFFF\",\n",
    "                \"#00FF80\",\"#80FF00\",\"#DAFF00\",\"#FFFF00\",\"#FFF500\",\"#FFDA00\",\n",
    "                \"#FFB000\",\"#FFA400\",\"#FF4F00\",\"#FF2500\",\"#FF0A00\",\"#FF00FF\",\n",
    "            ]\n",
    "        }\n",
    "    #     Map.addLayer(image, {}, \"Time series\", False)\n",
    "        Map.add_time_slider(image, vis_params, '','Time series of annual average air temperature(℃) at 2m', time_interval=1)\n",
    "#----------------------------------------------------------------------------------------------------------------------------   \n",
    "#----------------------------------------------------------------------------------------------------------------------------   \n",
    "    if layer.value == 'Monthly Average Temperature':\n",
    "        collection = ee.ImageCollection('ECMWF/ERA5/MONTHLY').select('mean_2m_air_temperature')\n",
    "        vis_params = {\n",
    "            'min': -23.15,\n",
    "            'max': 46.85,\n",
    "            'opacity': 0.7,\n",
    "            'palette': [\n",
    "                \"#000080\",\"#0000D9\",\"#4000FF\",\"#8000FF\",\"#0080FF\",\"#00FFFF\",\n",
    "                \"#00FF80\",\"#80FF00\",\"#DAFF00\",\"#FFFF00\",\"#FFF500\",\"#FFDA00\",\n",
    "                \"#FFB000\",\"#FFA400\",\"#FF4F00\",\"#FF2500\",\"#FF0A00\",\"#FF00FF\",\n",
    "            ]\n",
    "        }\n",
    "        era5_celsius = collection.map(toCelsius)\n",
    "        image = era5_celsius.toBands()\n",
    "        Map.add_time_slider(image, vis_params, '','Time series of monthly average air temperature(℃) at 2m', time_interval=1)\n",
    "#----------------------------------------------------------------------------------------------------------------------------   \n",
    "#----------------------------------------------------------------------------------------------------------------------------   \n",
    "    if layer.value == 'Annual Total Precipitation':\n",
    "        era5_complete = ee.ImageCollection(\"ECMWF/ERA5/MONTHLY\").select('total_precipitation')\n",
    "        distinctYear = ee.ImageCollection(\"ECMWF/ERA5/MONTHLY\").select('total_precipitation').distinct('year')\n",
    "        filter = ee.Filter.equals(leftField='year', rightField= 'year')\n",
    "        join = ee.Join.saveAll('sameYear')\n",
    "        joinCol = ee.ImageCollection(\n",
    "          join.apply(distinctYear, era5_complete, filter)\n",
    "        )\n",
    "\n",
    "        def func_lgr(img):\n",
    "          yearCol = ee.ImageCollection.fromImages(img.get('sameYear'))\n",
    "          return yearCol.sum().set('Year', img.get('year'))\n",
    "\n",
    "        annualSumCol = joinCol.map(func_lgr)\n",
    "        image = annualSumCol.toBands()\n",
    "        vis_params = {\n",
    "              'min': 0,\n",
    "              'max': 4.8,\n",
    "              'opacity': 0.7,\n",
    "              'palette': ['#f7fcf0','#e0f3db','#ccebc5','#a8ddb5','#7bccc4','#4eb3d3','#2b8cbe','#0868ac','#084081']\n",
    "            }\n",
    "    #     Map.addLayer(image, {}, \"Time series\", False)\n",
    "        Map.add_time_slider(image, vis_params, '','Time series of annual average air temperature(℃) at 2m', time_interval=1)\n",
    "#----------------------------------------------------------------------------------------------------------------------------\n",
    "#----------------------------------------------------------------------------------------------------------------------------   \n",
    "    if layer.value == 'Monthly Total Precipitation':\n",
    "        collection  = ee.ImageCollection('ECMWF/ERA5/MONTHLY').select('total_precipitation')\n",
    "        vis_params = {\n",
    "              'min': 0,\n",
    "              'max': 0.4,\n",
    "              'opacity': 0.7,\n",
    "              'palette': ['#f7fcf0','#e0f3db','#ccebc5','#a8ddb5','#7bccc4','#4eb3d3','#2b8cbe','#0868ac','#084081']\n",
    "            }\n",
    "        image = collection.toBands()\n",
    "        Map.add_time_slider(image, vis_params, '','Time series of monthly total precipitation(m)', time_interval=1)\n",
    "#----------------------------------------------------------------------------------------------------------------------------   \n",
    "#----------------------------------------------------------------------------------------------------------------------------   \n",
    "    if layer.value == 'NDVI':\n",
    "        collection = ee.ImageCollection('LANDSAT/LE07/C01/T1_8DAY_NDVI').filterDate('2000-01-01', '2021-12-11').select('NDVI')\n",
    "        vis_params = {\n",
    "          'min': 0.0,\n",
    "          'max': 1.0,\n",
    "          'opacity': 0.7,\n",
    "          'palette': [\n",
    "            'FFFFFF', 'CE7E45', 'DF923D', 'F1B555', 'FCD163', '99B718', '74A901',\n",
    "            '66A000', '529400', '3E8601', '207401', '056201', '004C00', '023B01',\n",
    "            '012E01', '011D01', '011301'\n",
    "          ],\n",
    "        }\n",
    "#         Map.addLayer(collection, vis_params, 'NDVI Reference')\n",
    "        image = collection.toBands()\n",
    "        Map.add_time_slider(collection, vis_params, '','Time series of normalized difference vegetation index(NDVI)', time_interval=2)\n",
    "#----------------------------------------------------------------------------------------------------------------------------   \n",
    "#----------------------------------------------------------------------------------------------------------------------------   \n",
    "    if layer.value == 'Landcover':\n",
    "        collection = ee.ImageCollection('COPERNICUS/CORINE/V20/100m').select('landcover')\n",
    "        vis_params = {}\n",
    "        image = collection.toBands()\n",
    "        Map.add_time_slider(collection, vis_params, '','Time series of CORINE landcover', time_interval=1)\n",
    "#----------------------------------------------------------------------------------------------------------------------------\n",
    "#----------------------------------------------------------------------------------------------------------------------------   \n",
    "    if layer.value == 'Soil Moisture':\n",
    "        collection  = ee.ImageCollection('NASA/FLDAS/NOAH01/C/GL/M/V001').select('SoilMoi00_10cm_tavg')\n",
    "        vis_params = {\n",
    "          'min': 0.0,\n",
    "          'max': 1.0,\n",
    "          'opacity': 0.7,\n",
    "          'palette': ['#ffffe5','#f7fcb9','#d9f0a3','#addd8e','#78c679','#41ab5d','#238443','#006837','#004529']\n",
    "        }\n",
    "        image = collection.toBands()\n",
    "        Map.add_time_slider(image, vis_params, '','Time series of soil moisture (0 - 10 cm underground) in m^3 m^-3', time_interval=1)\n",
    "#----------------------------------------------------------------------------------------------------------------------------\n",
    "#----------------------------------------------------------------------------------------------------------------------------   \n",
    "    if layer.value == 'PM2.5':\n",
    "        collection  = ee.ImageCollection('ECMWF/CAMS/NRT').select('particulate_matter_d_less_than_25_um_surface')\n",
    "        vis_params = {\n",
    "          'min': 0.0,\n",
    "          'max': 0.000076,\n",
    "          'opacity': 0.7,\n",
    "          'palette': [\"5E4FA2\",\"3288BD\",\"66C2A5\",\"ABE0A4\",\"E6F598\",\n",
    "                      \"FFFFBF\",\"FEE08B\",\"FDAE61\",\"F46D43\",\"D53E4F\",\"9E0142\"]\n",
    "        }\n",
    "        image = collection.toBands()\n",
    "        Map.add_time_slider(image, vis_params, '','Time series of Particulate matter d < 2.5 um(kg m^-3)', time_interval=1)\n",
    "#----------------------------------------------------------------------------------------------------------------------------\n",
    "#----------------------------------------------------------------------------------------------------------------------------   \n",
    "    if layer.value == 'Sulphur Dioxide':\n",
    "        collection  = ee.ImageCollection('COPERNICUS/S5P/NRTI/L3_SO2').select('SO2_column_number_density')\n",
    "        vis_params = {\n",
    "          'min': 0.0,\n",
    "          'max': 0.0005,\n",
    "          'opacity': 0.7,\n",
    "          'palette':['black', 'blue', 'purple', 'cyan', 'green', 'yellow', 'red']\n",
    "        }\n",
    "        image = collection.toBands()\n",
    "        Map.add_time_slider(image, vis_params, '','Time series of SO2 vertical column density at ground level(mol/m^2)', time_interval=1)\n",
    "      "
   ]
  },
  {
   "cell_type": "code",
   "execution_count": 8,
   "metadata": {},
   "outputs": [],
   "source": [
    "def getLayerName(layer_now):\n",
    "    if layer_now == 'Monthly Average Temperature':\n",
    "        return 'Time series of monthly average air temperature(℃) at 2m'\n",
    "    elif layer_now == \"Annual Average Temperature\":\n",
    "        return 'Time series of annual average air temperature(℃) at 2m'\n",
    "    else:\n",
    "        return layer_now\n",
    "\n",
    "def add_clicked(b):\n",
    "#     remove current layers and slider control\n",
    "    if hasattr(Map,'slider_ctrl'):\n",
    "        Map.slider_ctrl.widget.children[4].click()\n",
    "    showLayer()\n",
    "    \n",
    "show_layer.on_click(add_clicked)"
   ]
  },
  {
   "cell_type": "code",
   "execution_count": null,
   "metadata": {},
   "outputs": [],
   "source": []
  }
 ],
 "metadata": {
  "hide_input": true,
  "kernelspec": {
   "display_name": "Python 3 (ipykernel)",
   "language": "python",
   "name": "python3"
  },
  "language_info": {
   "codemirror_mode": {
    "name": "ipython",
    "version": 3
   },
   "file_extension": ".py",
   "mimetype": "text/x-python",
   "name": "python",
   "nbconvert_exporter": "python",
   "pygments_lexer": "ipython3",
   "version": "3.8.12"
  },
  "toc": {
   "base_numbering": 1,
   "nav_menu": {},
   "number_sections": true,
   "sideBar": true,
   "skip_h1_title": true,
   "title_cell": "Table of Contents",
   "title_sidebar": "Table of Contents",
   "toc_cell": false,
   "toc_position": {},
   "toc_section_display": true,
   "toc_window_display": true
  },
  "varInspector": {
   "cols": {
    "lenName": 16,
    "lenType": 16,
    "lenVar": 40
   },
   "kernels_config": {
    "python": {
     "delete_cmd_postfix": "",
     "delete_cmd_prefix": "del ",
     "library": "var_list.py",
     "varRefreshCmd": "print(var_dic_list())"
    },
    "r": {
     "delete_cmd_postfix": ") ",
     "delete_cmd_prefix": "rm(",
     "library": "var_list.r",
     "varRefreshCmd": "cat(var_dic_list()) "
    }
   },
   "types_to_exclude": [
    "module",
    "function",
    "builtin_function_or_method",
    "instance",
    "_Feature"
   ],
   "window_display": false
  }
 },
 "nbformat": 4,
 "nbformat_minor": 4
}
